{
 "cells": [
  {
   "cell_type": "code",
   "execution_count": 5,
   "id": "72685778",
   "metadata": {},
   "outputs": [],
   "source": [
    "# from ucimlrepo import fetch_ucirepo \n",
    "  \n",
    "# # fetch dataset \n",
    "# adult = fetch_ucirepo(id=2) \n",
    "  \n",
    "# # data (as pandas dataframes) \n",
    "# X = adult.data.features \n",
    "# y = adult.data.targets \n",
    "  \n",
    "# # metadata \n",
    "# print(adult.metadata) \n",
    "  \n",
    "# # variable information \n",
    "# print(adult.variables) \n"
   ]
  },
  {
   "cell_type": "markdown",
   "id": "6d07a25c",
   "metadata": {},
   "source": [
    "## Start from here"
   ]
  },
  {
   "cell_type": "code",
   "execution_count": 6,
   "id": "45b96d34",
   "metadata": {},
   "outputs": [
    {
     "name": "stderr",
     "output_type": "stream",
     "text": [
      "--2024-10-12 01:54:46--  https://archive.ics.uci.edu/static/public/2/adult.zip\n",
      "Resolving archive.ics.uci.edu (archive.ics.uci.edu)... 128.195.10.252\n",
      "Connecting to archive.ics.uci.edu (archive.ics.uci.edu)|128.195.10.252|:443... connected.\n",
      "HTTP request sent, awaiting response... 200 OK\n",
      "Length: unspecified\n",
      "Saving to: 'adult.zip'\n",
      "\n",
      "     0K .......... .......... .......... .......... ..........  838K\n",
      "    50K .......... .......... .......... .......... ..........  814K\n",
      "   100K .......... .......... .......... .......... .......... 1.00M\n",
      "   150K .......... .......... .......... .......... ..........  926K\n",
      "   200K .......... .......... .......... .......... .......... 1.19M\n",
      "   250K .......... .......... .......... .......... .......... 1.74M\n",
      "   300K .......... .......... .......... .......... .......... 1.22M\n",
      "   350K .......... .......... .......... .......... .......... 1.67M\n",
      "   400K .......... .......... .......... .......... .......... 1.38M\n",
      "   450K .......... .......... .......... .......... .......... 1.75M\n",
      "   500K .......... .......... .......... .......... .......... 2.55M\n",
      "   550K .......... .......... .......... .......... .......... 1.98M\n",
      "   600K .....                                                   187M=0.5s\n",
      "\n",
      "2024-10-12 01:54:46 (1.26 MB/s) - 'adult.zip' saved [620237]\n",
      "\n",
      "A subdirectory or file ../datasets/adults already exists.\n",
      "A subdirectory or file -p already exists.\n",
      "Error occurred while processing: -p.\n",
      "A subdirectory or file ../datasets/preprocessed_data/ already exists.\n",
      "Error occurred while processing: ../datasets/preprocessed_data/.\n"
     ]
    },
    {
     "name": "stdout",
     "output_type": "stream",
     "text": [
      "Archive:  adult.zip\n",
      "  inflating: ../datasets/adults/Index  \n",
      "  inflating: ../datasets/adults/adult.data  \n",
      "  inflating: ../datasets/adults/adult.names  \n",
      "  inflating: ../datasets/adults/adult.test  \n",
      "  inflating: ../datasets/adults/old.adult.names  \n"
     ]
    }
   ],
   "source": [
    "# !wget https://archive.ics.uci.edu/static/public/2/adult.zip\n",
    "# !mkdir \"../datasets/adults\"\n",
    "# !mkdir -p \"../datasets/preprocessed_data/\"\n",
    "# !unzip adult.zip -d \"../datasets/adults\""
   ]
  },
  {
   "cell_type": "code",
   "execution_count": 7,
   "id": "cf9f68c2",
   "metadata": {},
   "outputs": [
    {
     "name": "stdout",
     "output_type": "stream",
     "text": [
      "I_ks    \t (2, 74, 10, 28523, 16, 16, 7, 16, 6, 5, 2, 123, 99, 96, 43)\n",
      "cum_I_ks \t [0, 2, 76, 86, 28609, 28625, 28641, 28648, 28664, 28670, 28675, 28677, 28800, 28899, 28995, 29038]\n"
     ]
    }
   ],
   "source": [
    "import numpy as np\n",
    "import csv\n",
    "from dataset_utils import index_sizes_from_event_dict,get_cumulative_index_sizes\n",
    "\n",
    "\n",
    "N = 32561\n",
    "D = 15\n",
    "CTS_VARS = [1,3, 11,12,13]\n",
    "CSV_FILENAME = '../datasets/adults/adult.data'\n",
    "EXPORT_FILENAME = \"../datasets/preprocessed_data/adults_\"\n",
    "\n",
    "I_ks = (2, 74, 10, 28523, 16, 16, 7, 16, 6, 5, 2, 123, 99, 96, 43)\n",
    "print('I_ks    \\t',I_ks)\n",
    "cum_I_ks = get_cumulative_index_sizes(I_ks)\n",
    "print('cum_I_ks \\t',cum_I_ks)\n",
    "\n",
    "\n",
    "\n",
    "event_dictionary = {\n",
    "    0 : ['<=50K', '>50K',],\n",
    "    1 : [17, 18, 19, 20, 21, 22, 23, 24, 25, 26, 27, 28, 29, 30, 31, 32, 33, 34, 35, 36, 37, 38, 39, 40, 41, 42, 43, 44, 45, 46, 47, 48, 49, 50, 51, 52, 53, 54, 55, 56, 57, 58, 59, 60, 61, 62, 63, 64, 65, 66, 67, 68, 69, 70, 71, 72, 73, 74, 75, 76, 77, 78, 79, 80, 81, 82, 83, 84, 85, 86, 87, 88, 89, 90],\n",
    "    2 : ['State-gov', 'Self-emp-not-inc', 'Private', 'Federal-gov', 'Local-gov', '?', 'Self-emp-inc', 'Without-pay', 'Never-worked', None],\n",
    "\n",
    "    4 : ['Bachelors', 'HS-grad', '11th', 'Masters', '9th', 'Some-college', 'Assoc-acdm', 'Assoc-voc', '7th-8th', 'Doctorate', 'Prof-school', '5th-6th', '10th', '1st-4th', 'Preschool', '12th'],\n",
    "    5 : list(range(1,16+1)),\n",
    "    6 : ['Never-married', 'Married-civ-spouse', 'Divorced', 'Married-spouse-absent', 'Separated', 'Married-AF-spouse', 'Widowed'],\n",
    "    7 : ['Adm-clerical', 'Exec-managerial', 'Handlers-cleaners', 'Prof-specialty', 'Other-service', 'Sales', 'Craft-repair', 'Transport-moving', 'Farming-fishing', 'Machine-op-inspct', 'Tech-support', '?', 'Protective-serv', 'Armed-Forces', 'Priv-house-serv', None],\n",
    "    8 : ['Not-in-family', 'Husband', 'Wife', 'Own-child', 'Unmarried', 'Other-relative'],\n",
    "    9 : ['White', 'Black', 'Asian-Pac-Islander', 'Amer-Indian-Eskimo', 'Other'],\n",
    "    10 : ['Male', 'Female'],\n",
    "    11 : [2174, 0, 14084, 5178, 5013, 2407, 14344, 15024, 7688, 34095, 4064, 4386, 7298, 1409, 3674, 1055, 3464, 2050, 2176, 594, 20051, 6849, 4101, 1111, 8614, 3411, 2597, 25236, 4650, 9386, 2463, 3103, 10605, 2964, 3325, 2580, 3471, 4865, 99999, 6514, 1471, 2329, 2105, 2885, 25124, 10520, 2202, 2961, 27828, 6767, 2228, 1506, 13550, 2635, 5556, 4787, 3781, 3137, 3818, 3942, 914, 401, 2829, 2977, 4934, 2062, 2354, 5455, 15020, 1424, 3273, 22040, 4416, 3908, 10566, 991, 4931, 1086, 7430, 6497, 114, 7896, 2346, 3418, 3432, 2907, 1151, 2414, 2290, 15831, 41310, 4508, 2538, 3456, 6418, 1848, 3887, 5721, 9562, 1455, 2036, 1831, 11678, 2936, 2993, 7443, 6360, 1797, 1173, 4687, 6723, 2009, 6097, 2653, 1639, 18481, 7978, 2387, 5060, 1264, 7262, 1731, 6612],\n",
    "    12 : [0, 2042, 1408, 1902, 1573, 1887, 1719, 1762, 1564, 2179, 1816, 1980, 1977, 1876, 1340, 2206, 1741, 1485, 2339, 2415, 1380, 1721, 2051, 2377, 1669, 2352, 1672, 653, 2392, 1504, 2001, 1590, 1651, 1628, 1848, 1740, 2002, 1579, 2258, 1602, 419, 2547, 2174, 2205, 1726, 2444, 1138, 2238, 625, 213, 1539, 880, 1668, 1092, 1594, 3004, 2231, 1844, 810, 2824, 2559, 2057, 1974, 974, 2149, 1825, 1735, 1258, 2129, 2603, 2282, 323, 4356, 2246, 1617, 1648, 2489, 3770, 1755, 3683, 2267, 2080, 2457, 155, 3900, 2201, 1944, 2467, 2163, 2754, 2472, 1411, 1429, 3175, 1510, 1870, 1911, 2465, 1421],\n",
    "    13 : [40, 13, 16, 45, 50, 80, 30, 35, 60, 20, 52, 44, 15, 25, 38, 43, 55, 48, 58, 32, 70, 2, 22, 56, 41, 28, 36, 24, 46, 42, 12, 65, 1, 10, 34, 75, 98, 33, 54, 8, 6, 64, 19, 18, 72, 5, 9, 47, 37, 21, 26, 14, 4, 59, 7, 99, 53, 39, 62, 57, 78, 90, 66, 11, 49, 84, 3, 17, 68, 27, 85, 31, 51, 77, 63, 23, 87, 88, 73, 89, 97, 94, 29, 96, 67, 82, 86, 91, 81, 76, 92, 61, 74, 95, 79, 69],\n",
    "    14 : ['United-States', 'Cuba', 'Jamaica', 'India', '?', 'Mexico', 'South', 'Puerto-Rico', 'Honduras', 'England', 'Canada', 'Germany', 'Iran', 'Philippines', 'Italy', 'Poland', 'Columbia', 'Cambodia', 'Thailand', 'Ecuador', 'Laos', 'Taiwan', 'Haiti', 'Portugal', 'Dominican-Republic', 'El-Salvador', 'France', 'Guatemala', 'China', 'Japan', 'Yugoslavia', 'Peru', 'Outlying-US(Guam-USVI-etc)', 'Scotland', 'Trinadad&Tobago', 'Greece', 'Nicaragua', 'Vietnam', 'Hong', 'Ireland', 'Hungary', 'Holand-Netherlands', None],\n",
    "}"
   ]
  },
  {
   "cell_type": "code",
   "execution_count": null,
   "id": "3eabb988",
   "metadata": {},
   "outputs": [],
   "source": []
  },
  {
   "cell_type": "code",
   "execution_count": 8,
   "id": "771d86cb",
   "metadata": {},
   "outputs": [
    {
     "name": "stdout",
     "output_type": "stream",
     "text": [
      "(2, 74, 10, 28523, 16, 16, 7, 16, 6, 5, 2, 123, 99, 96, 43)\n",
      "29038\n"
     ]
    }
   ],
   "source": [
    "\n",
    "\n",
    "\n",
    "\n",
    "\n",
    "ONEHOT_D = sum(list(I_ks))\n",
    "print(I_ks)\n",
    "print(ONEHOT_D)\n",
    "X_arr = np.zeros( (N,ONEHOT_D), dtype=int )\n",
    "\n",
    "import csv\n",
    "with open(CSV_FILENAME, newline='') as csvfile:\n",
    "    spamreader = csv.reader(csvfile, delimiter=',') #, quotechar='|')\n",
    "    n=0\n",
    "    for row in spamreader:\n",
    "        if n<N: #white space at the end of the file\n",
    "            # cum_n = 2\n",
    "            # for d in range(1,D):\n",
    "            cum_n = 0\n",
    "            for d in range(D):\n",
    "                if d>0:\n",
    "                    value = row[d-1].strip()\n",
    "                else:\n",
    "                    value = row[-1].strip()\n",
    "    \n",
    "                if d in CTS_VARS or d==5:\n",
    "                    value = int(value)\n",
    "    \n",
    "                if d!=3:\n",
    "                    if value not in event_dictionary[d]:\n",
    "                        print('\\t',d)\n",
    "                    v_id = event_dictionary[d].index(value)\n",
    "                    \n",
    "                    X_arr[n,cum_n+v_id] = 1\n",
    "                else:\n",
    "                    X_arr[n,cum_n+0] = value\n",
    "                cum_n += I_ks[d]\n",
    "\n",
    "        \n",
    "        pass\n",
    "        # print(', '.join(row))\n",
    "        n+=1"
   ]
  },
  {
   "cell_type": "code",
   "execution_count": 9,
   "id": "1b0131a1",
   "metadata": {
    "scrolled": true
   },
   "outputs": [
    {
     "data": {
      "image/png": "[encoded data removed]",
      "text/plain": [
       "<Figure size 432x288 with 1 Axes>"
      ]
     },
     "metadata": {
      "needs_background": "light"
     },
     "output_type": "display_data"
    },
    {
     "data": {
      "image/png": "[encoded data removed]",
      "text/plain": [
       "<Figure size 432x288 with 1 Axes>"
      ]
     },
     "metadata": {
      "needs_background": "light"
     },
     "output_type": "display_data"
    },
    {
     "data": {
      "image/png": "[encoded data removed]",
      "text/plain": [
       "<Figure size 432x288 with 1 Axes>"
      ]
     },
     "metadata": {
      "needs_background": "light"
     },
     "output_type": "display_data"
    },
    {
     "data": {
      "image/png": "[encoded data removed]",
      "text/plain": [
       "<Figure size 432x288 with 1 Axes>"
      ]
     },
     "metadata": {
      "needs_background": "light"
     },
     "output_type": "display_data"
    },
    {
     "data": {
      "image/png": "[encoded data removed]",
      "text/plain": [
       "<Figure size 432x288 with 1 Axes>"
      ]
     },
     "metadata": {
      "needs_background": "light"
     },
     "output_type": "display_data"
    }
   ],
   "source": [
    "cts_variables = [1,3, 11,12,13]\n",
    "import matplotlib.pyplot as plt\n",
    "\n",
    "for i in cts_variables:\n",
    "    cum_I_i = cum_I_ks[i]\n",
    "    I_i = I_ks[i]\n",
    "    plt.title(str(i))\n",
    "    if i!=3:\n",
    "        #plt.hist(X_arr[:,cum_I_i:cum_I_i+I_i])\n",
    "        plt.hist(np.matmul(X_arr[:,cum_I_i:cum_I_i+I_i],event_dictionary[i]),bins=100)\n",
    "    else:\n",
    "        # plt.hist(X_arr[:,cum_I_i])\n",
    "        # plt.scatter(np.arange(N),X_arr[:,cum_I_i])\n",
    "        plt.hist(X_arr[:,cum_I_i],bins=100)\n",
    "    plt.yscale('log')\n",
    "    plt.show()"
   ]
  },
  {
   "cell_type": "markdown",
   "id": "8dff2c7d",
   "metadata": {},
   "source": [
    "### Choice of discretization of continuous features"
   ]
  },
  {
   "cell_type": "code",
   "execution_count": 10,
   "id": "63d64ef9",
   "metadata": {},
   "outputs": [],
   "source": [
    "bins_dictionary = {\n",
    "    1 : [14.5, 19.5, 24.5, 29.5, 34.5, 39.5, 44.5, 49.5, 54.5, 59.5, 64.5, 69.5,79.5,89.5,99.5],\n",
    "    3 : [0, 50000, 100000, 150000, 200000, 250000, 300000, 350000, 400000, 1500000],\n",
    "    \n",
    "    11 : [-0.5,0.5,1000.5,3000.5,10000.5,   30000.5, 100000.5],\n",
    "    12 : [-0.5,1000.5,1500.5,2000.5,2500.5,5000.5],\n",
    "    13 : [0.5, 10.5, 20.5,30.5, 35.5, 40.5, 45.5, 50.5, 60.5, 80.5,100.5],\n",
    "}\n",
    "cts_event_dictionary = {\n",
    "    1 : ['<20', '20-24', '25-29', '30-34', '35-39', '40-44', '45-49', '50-54', '55-59', '60-64', '65-69', '70-79', '80-89', '90+'],\n",
    "    3 : ['<50K', '50K-100K', '100K-150K', '150K-200K', '200K-250K', '250K-300K', '300K-350K', '350K-400K', '400K+'],\n",
    "\n",
    "    11 : ['0', '<1K', '1K-3K', '3K-10K', '10K-30K', '30K+'],\n",
    "    12 : ['1K', '1K-1.5K', '1.5K-2K', '2K-2.5K', '2.5K-5K'],\n",
    "    13 : ['0-10', '10-20', '20-30', '30-35', '35-40', '40-45', '45-50', '50-60', '60-80', '80-100'],\n",
    "}"
   ]
  },
  {
   "cell_type": "code",
   "execution_count": 11,
   "id": "8365abf3",
   "metadata": {
    "scrolled": true
   },
   "outputs": [
    {
     "name": "stdout",
     "output_type": "stream",
     "text": [
      "1\n"
     ]
    },
    {
     "data": {
      "image/png": "[encoded data removed]",
      "text/plain": [
       "<Figure size 432x288 with 1 Axes>"
      ]
     },
     "metadata": {
      "needs_background": "light"
     },
     "output_type": "display_data"
    },
    {
     "name": "stdout",
     "output_type": "stream",
     "text": [
      "3\n"
     ]
    },
    {
     "data": {
      "image/png": "[encoded data removed]",
      "text/plain": [
       "<Figure size 432x288 with 1 Axes>"
      ]
     },
     "metadata": {
      "needs_background": "light"
     },
     "output_type": "display_data"
    },
    {
     "name": "stdout",
     "output_type": "stream",
     "text": [
      "11\n"
     ]
    },
    {
     "data": {
      "image/png": "[encoded data removed]",
      "text/plain": [
       "<Figure size 432x288 with 1 Axes>"
      ]
     },
     "metadata": {
      "needs_background": "light"
     },
     "output_type": "display_data"
    },
    {
     "name": "stdout",
     "output_type": "stream",
     "text": [
      "12\n"
     ]
    },
    {
     "data": {
      "image/png": "[encoded data removed]",
      "text/plain": [
       "<Figure size 432x288 with 1 Axes>"
      ]
     },
     "metadata": {
      "needs_background": "light"
     },
     "output_type": "display_data"
    },
    {
     "name": "stdout",
     "output_type": "stream",
     "text": [
      "13\n"
     ]
    },
    {
     "data": {
      "image/png": "[encoded data removed]",
      "text/plain": [
       "<Figure size 432x288 with 1 Axes>"
      ]
     },
     "metadata": {
      "needs_background": "light"
     },
     "output_type": "display_data"
    }
   ],
   "source": [
    "import matplotlib.pyplot as plt\n",
    "\n",
    "for i in CTS_VARS:\n",
    "    print(i)\n",
    "    cum_I_i = cum_I_ks[i]\n",
    "    I_i = I_ks[i]\n",
    "    plt.title(str(i))\n",
    "    if i!=3:\n",
    "        #plt.hist(X_arr[:,cum_I_i:cum_I_i+I_i])\n",
    "        plt.hist(np.matmul(X_arr[:,cum_I_i:cum_I_i+I_i],event_dictionary[i]),bins=bins_dictionary[i])\n",
    "    else:\n",
    "        # plt.hist(X_arr[:,cum_I_i])\n",
    "        # plt.scatter(np.arange(N),X_arr[:,cum_I_i])\n",
    "        plt.hist(X_arr[:,cum_I_i],bins=bins_dictionary[i])\n",
    "    plt.yscale('log')\n",
    "    plt.show()"
   ]
  },
  {
   "cell_type": "markdown",
   "id": "7d2a9e53",
   "metadata": {},
   "source": [
    "# final clean version with no duplicate education"
   ]
  },
  {
   "cell_type": "code",
   "execution_count": 12,
   "id": "b3e7cef4",
   "metadata": {},
   "outputs": [],
   "source": [
    "event_dictionary = {\n",
    "    0 : ['<=50K', '>50K'],\n",
    "    1 : ['<20', '20-24', '25-29', '30-34', '35-39', '40-44', '45-49', '50-54', '55-59', '60-64', '65-69', '70-79', '80-89', '90+'],\n",
    "    2 : ['State-gov', 'Self-emp-not-inc', 'Private', 'Federal-gov', 'Local-gov', '?', 'Self-emp-inc', 'Without-pay', 'Never-worked', None],\n",
    "    3 : ['<50K', '50K-100K', '100K-150K', '150K-200K', '200K-250K', '250K-300K', '300K-350K', '350K-400K', '400K+'],\n",
    "    4 : ['Preschool', '1st-4th', '5th-6th', '7th-8th', '9th', '10th', '11th', '12th', 'HS-grad', 'Some-college', 'Assoc-voc', 'Assoc-acdm', 'Bachelors', 'Masters', 'Prof-school', 'Doctorate'],\n",
    "\n",
    "    #DUPLICATED FEATURE AS A NUMERICAL VALUE\n",
    "    5 : [1, 2, 3, 4, 5, 6, 7, 8, 9, 10, 11, 12, 13, 14, 15, 16],\n",
    "    \n",
    "    6 : ['Never-married', 'Married-civ-spouse', 'Divorced', 'Married-spouse-absent', 'Separated', 'Married-AF-spouse', 'Widowed'],\n",
    "    7 : ['Adm-clerical', 'Exec-managerial', 'Handlers-cleaners', 'Prof-specialty', 'Other-service', 'Sales', 'Craft-repair', 'Transport-moving', 'Farming-fishing', 'Machine-op-inspct', 'Tech-support', '?', 'Protective-serv', 'Armed-Forces', 'Priv-house-serv', None],\n",
    "    8 : ['Not-in-family', 'Husband', 'Wife', 'Own-child', 'Unmarried', 'Other-relative'],\n",
    "    9 : ['White', 'Black', 'Asian-Pac-Islander', 'Amer-Indian-Eskimo', 'Other'],\n",
    "    10 : ['Male', 'Female'],\n",
    "    11 : ['0', '<1K', '1K-3K', '3K-10K', '10K-30K', '30K+'],\n",
    "    12 : ['1K', '1K-1.5K', '1.5K-2K', '2K-2.5K', '2.5K-5K'],\n",
    "    13 : ['0-10', '10-20', '20-30', '30-35', '35-40', '40-45', '45-50', '50-60', '60-80', '80-100'],\n",
    "    14 : ['United-States', 'Cuba', 'Jamaica', 'India', '?', 'Mexico', 'South', 'Puerto-Rico', 'Honduras', 'England', 'Canada', 'Germany', 'Iran', 'Philippines', 'Italy', 'Poland', 'Columbia', 'Cambodia', 'Thailand', 'Ecuador', 'Laos', 'Taiwan', 'Haiti', 'Portugal', 'Dominican-Republic', 'El-Salvador', 'France', 'Guatemala', 'China', 'Japan', 'Yugoslavia', 'Peru', 'Outlying-US(Guam-USVI-etc)', 'Scotland', 'Trinadad&Tobago', 'Greece', 'Nicaragua', 'Vietnam', 'Hong', 'Ireland', 'Hungary', 'Holand-Netherlands', None],\n",
    "}\n",
    "\n",
    "readable_label_dict = {\n",
    "    0 : \"income\",\n",
    "    1 : \"age\",\n",
    "    2 : \"workclass\",\n",
    "    3 : \"fnlwgt\",\n",
    "    4 : \"education\",\n",
    "    5 : \"education-num\",\n",
    "    6 : \"marital-status\",\n",
    "    7 : \"occupation\",\n",
    "    8 : \"relationship\",\n",
    "    9 : \"race\",\n",
    "    10 : \"sex\",\n",
    "    11 : \"capital-gain\",\n",
    "    12 : \"capital-loss\",\n",
    "    13 : \"hours-per-week\",\n",
    "    14 : \"native-country\",\n",
    "}\n",
    "\n",
    "bins_dictionary = {\n",
    "    1 : [14.5, 19.5, 24.5, 29.5, 34.5, 39.5, 44.5, 49.5, 54.5, 59.5, 64.5, 69.5,79.5,89.5,99.5],\n",
    "    3 : [0, 50000, 100000, 150000, 200000, 250000, 300000, 350000, 400000, 1500000],\n",
    "    \n",
    "    11 : [-0.5,0.5,1000.5,3000.5,10000.5,   30000.5, 100000.5],\n",
    "    12 : [-0.5,1000.5,1500.5,2000.5,2500.5,5000.5],\n",
    "    13 : [0.5, 10.5, 20.5,30.5, 35.5, 40.5, 45.5, 50.5, 60.5, 80.5,100.5],\n",
    "}\n",
    "D=15\n"
   ]
  },
  {
   "cell_type": "code",
   "execution_count": 13,
   "id": "e3bd0e93",
   "metadata": {},
   "outputs": [
    {
     "name": "stdout",
     "output_type": "stream",
     "text": [
      "I_ks    \t (2, 14, 10, 9, 16, 16, 7, 16, 6, 5, 2, 6, 5, 10, 43)\n",
      "D 15 \t\tonehot D 167\n",
      "cum_I_ks \t [0, 2, 16, 26, 35, 51, 67, 74, 90, 96, 101, 103, 109, 114, 124, 167]\n"
     ]
    }
   ],
   "source": [
    "\n",
    "I_ks = []\n",
    "for d in range(D):\n",
    "    if d in bins_dictionary:\n",
    "        I_ks.append( len(bins_dictionary[d])-1 )\n",
    "        assert len(bins_dictionary[d]) == len(event_dictionary[d])+1, 'mislabeled readable labels @ '+str(d) +\\\n",
    "                                                                        '  ('+str(len(bins_dictionary[d])-1)+','+str(len(event_dictionary[d]))+')'\n",
    "    else:\n",
    "        I_ks.append( len(event_dictionary[d]) )\n",
    "I_ks=tuple(I_ks)\n",
    "print('I_ks    \\t',I_ks)\n",
    "print(\"D\",len(I_ks),\"\\t\\tonehot D\",sum(I_ks))\n",
    "\n",
    "cum_I_ks = get_cumulative_index_sizes(I_ks)\n",
    "print('cum_I_ks \\t',cum_I_ks)\n"
   ]
  },
  {
   "cell_type": "code",
   "execution_count": null,
   "id": "d14b837c",
   "metadata": {},
   "outputs": [],
   "source": []
  },
  {
   "cell_type": "code",
   "execution_count": 14,
   "id": "d9672b7e",
   "metadata": {},
   "outputs": [
    {
     "name": "stdout",
     "output_type": "stream",
     "text": [
      "(2, 14, 10, 9, 16, 16, 7, 16, 6, 5, 2, 6, 5, 10, 43)\n",
      "167\n",
      "32562\n"
     ]
    }
   ],
   "source": [
    "import numpy as np\n",
    "N = 32561\n",
    "\n",
    "\n",
    "ONEHOT_D = sum(list(I_ks))\n",
    "print(I_ks)\n",
    "print(ONEHOT_D)\n",
    "X_arr = np.zeros( (N,ONEHOT_D), dtype=int )\n",
    "\n",
    "import csv\n",
    "with open(CSV_FILENAME, newline='') as csvfile:\n",
    "    spamreader = csv.reader(csvfile, delimiter=',') #, quotechar='|')\n",
    "    n=0\n",
    "    for row in spamreader:\n",
    "        if n<N: #white space at the end of the file\n",
    "            cum_n = 0\n",
    "            for d in range(D):\n",
    "                if d>0:\n",
    "                    value = row[d-1].strip()\n",
    "                else:\n",
    "                    value = row[-1].strip()\n",
    "\n",
    "                v_id = -1\n",
    "                if d in CTS_VARS:\n",
    "                    value = int(value)\n",
    "\n",
    "                    v_id = -1\n",
    "                    bins_d = bins_dictionary[d]\n",
    "                    for bb,b in enumerate(bins_d):\n",
    "                        if value>b:\n",
    "                            v_id = bb\n",
    "\n",
    "                else:\n",
    "                    if d==5:\n",
    "                        value = int(value)\n",
    "                    if value not in event_dictionary[d]:\n",
    "                        print('FAILURE\\t',d)\n",
    "                    v_id = event_dictionary[d].index(value)\n",
    "   \n",
    "                X_arr[n,cum_n+v_id] = 1\n",
    "                cum_n += I_ks[d]\n",
    "        pass\n",
    "        n+=1\n",
    "print(n)\n"
   ]
  },
  {
   "cell_type": "markdown",
   "id": "32412d17",
   "metadata": {},
   "source": [
    "### Remove the duplicate feature: education (4) and education-numerical (5)"
   ]
  },
  {
   "cell_type": "code",
   "execution_count": 15,
   "id": "3fc657d9",
   "metadata": {},
   "outputs": [
    {
     "name": "stdout",
     "output_type": "stream",
     "text": [
      "16 51\n",
      "X_arr (32561, 167)\n",
      "X_arr (32561, 151)\n",
      "D 14 \t\tonehot D 151\n",
      "I_ks    \t (2, 14, 10, 9, 16, 7, 16, 6, 5, 2, 6, 5, 10, 43)\n",
      "cum_I_ks \t [0, 2, 16, 26, 35, 51, 58, 74, 80, 85, 87, 93, 98, 108, 151]\n"
     ]
    }
   ],
   "source": [
    "#REMOVING FEATURE #5\n",
    "\n",
    "if len(I_ks)==15:\n",
    "    d_to_remove = 5\n",
    "    print(I_ks[5],cum_I_ks[5])\n",
    "    I_5 = I_ks[5]\n",
    "    cum_I_5 = cum_I_ks[5]\n",
    "\n",
    "    print('X_arr',X_arr.shape)\n",
    "    X_arr = np.concatenate([X_arr[:,:cum_I_5],X_arr[:,cum_I_5+I_5:]],axis=-1)\n",
    "    print('X_arr',X_arr.shape)\n",
    "\n",
    "    for d in range(D):\n",
    "        if d>5:\n",
    "            readable_label_dict[d-1] = readable_label_dict[d]\n",
    "            event_dictionary[d-1]    = event_dictionary[d]\n",
    "    I_ks=list(I_ks)\n",
    "    I_ks.pop(5)\n",
    "    I_ks=tuple(I_ks)\n",
    "    D=14\n",
    "    del readable_label_dict[14]\n",
    "    del event_dictionary[14]\n",
    "    \n",
    "    print(\"D\",len(I_ks),\"\\t\\tonehot D\",sum(I_ks))\n",
    "    print('I_ks    \\t',I_ks)\n",
    "    cum_I_ks = get_cumulative_index_sizes(I_ks)\n",
    "    print('cum_I_ks \\t',cum_I_ks)\n",
    "else:\n",
    "    raise Exception(\"be careful not to run this cell multiple times\")"
   ]
  },
  {
   "cell_type": "code",
   "execution_count": 16,
   "id": "54371e0e",
   "metadata": {},
   "outputs": [
    {
     "name": "stdout",
     "output_type": "stream",
     "text": [
      "0 \t income\n",
      "1 \t age\n",
      "2 \t workclass\n",
      "3 \t fnlwgt\n",
      "4 \t education\n",
      "5 \t marital-status\n",
      "6 \t occupation\n",
      "7 \t relationship\n",
      "8 \t race\n",
      "9 \t sex\n",
      "10 \t capital-gain\n",
      "11 \t capital-loss\n",
      "12 \t hours-per-week\n",
      "13 \t native-country\n",
      "\n",
      "\n",
      "0 \t ['<=50K', '>50K']\n",
      "1 \t ['<20', '20-24', '25-29', '30-34', '35-39', '40-44', '45-49', '50-54', '55-59', '60-64', '65-69', '70-79', '80-89', '90+']\n",
      "2 \t ['State-gov', 'Self-emp-not-inc', 'Private', 'Federal-gov', 'Local-gov', '?', 'Self-emp-inc', 'Without-pay', 'Never-worked', None]\n",
      "3 \t ['<50K', '50K-100K', '100K-150K', '150K-200K', '200K-250K', '250K-300K', '300K-350K', '350K-400K', '400K+']\n",
      "4 \t ['Preschool', '1st-4th', '5th-6th', '7th-8th', '9th', '10th', '11th', '12th', 'HS-grad', 'Some-college', 'Assoc-voc', 'Assoc-acdm', 'Bachelors', 'Masters', 'Prof-school', 'Doctorate']\n",
      "5 \t ['Never-married', 'Married-civ-spouse', 'Divorced', 'Married-spouse-absent', 'Separated', 'Married-AF-spouse', 'Widowed']\n",
      "6 \t ['Adm-clerical', 'Exec-managerial', 'Handlers-cleaners', 'Prof-specialty', 'Other-service', 'Sales', 'Craft-repair', 'Transport-moving', 'Farming-fishing', 'Machine-op-inspct', 'Tech-support', '?', 'Protective-serv', 'Armed-Forces', 'Priv-house-serv', None]\n",
      "7 \t ['Not-in-family', 'Husband', 'Wife', 'Own-child', 'Unmarried', 'Other-relative']\n",
      "8 \t ['White', 'Black', 'Asian-Pac-Islander', 'Amer-Indian-Eskimo', 'Other']\n",
      "9 \t ['Male', 'Female']\n",
      "10 \t ['0', '<1K', '1K-3K', '3K-10K', '10K-30K', '30K+']\n",
      "11 \t ['1K', '1K-1.5K', '1.5K-2K', '2K-2.5K', '2.5K-5K']\n",
      "12 \t ['0-10', '10-20', '20-30', '30-35', '35-40', '40-45', '45-50', '50-60', '60-80', '80-100']\n",
      "13 \t ['United-States', 'Cuba', 'Jamaica', 'India', '?', 'Mexico', 'South', 'Puerto-Rico', 'Honduras', 'England', 'Canada', 'Germany', 'Iran', 'Philippines', 'Italy', 'Poland', 'Columbia', 'Cambodia', 'Thailand', 'Ecuador', 'Laos', 'Taiwan', 'Haiti', 'Portugal', 'Dominican-Republic', 'El-Salvador', 'France', 'Guatemala', 'China', 'Japan', 'Yugoslavia', 'Peru', 'Outlying-US(Guam-USVI-etc)', 'Scotland', 'Trinadad&Tobago', 'Greece', 'Nicaragua', 'Vietnam', 'Hong', 'Ireland', 'Hungary', 'Holand-Netherlands', None]\n"
     ]
    }
   ],
   "source": [
    "for thing in (readable_label_dict):\n",
    "    print(thing,'\\t',readable_label_dict[thing])\n",
    "print()\n",
    "print()\n",
    "for thing in (event_dictionary):\n",
    "    print(thing,'\\t',event_dictionary[thing])\n"
   ]
  },
  {
   "cell_type": "code",
   "execution_count": 17,
   "id": "d93bfc88",
   "metadata": {},
   "outputs": [],
   "source": [
    "from dataset_utils import save_onehotified_dataset_to_numpy\n",
    "\n",
    "trn_X,tst_X = save_onehotified_dataset_to_numpy(EXPORT_FILENAME,X_arr,N,D,I_ks,cum_I_ks,readable_label_dict,event_dictionary)"
   ]
  },
  {
   "cell_type": "code",
   "execution_count": null,
   "id": "a9c47b08",
   "metadata": {},
   "outputs": [],
   "source": []
  },
  {
   "cell_type": "code",
   "execution_count": null,
   "id": "6aec5ba0",
   "metadata": {},
   "outputs": [],
   "source": []
  },
  {
   "cell_type": "code",
   "execution_count": null,
   "id": "e83452e2",
   "metadata": {},
   "outputs": [],
   "source": []
  },
  {
   "cell_type": "code",
   "execution_count": null,
   "id": "aca6c16b",
   "metadata": {},
   "outputs": [],
   "source": []
  },
  {
   "cell_type": "code",
   "execution_count": null,
   "id": "49b3e36e",
   "metadata": {},
   "outputs": [],
   "source": []
  },
  {
   "cell_type": "markdown",
   "id": "f381163b",
   "metadata": {},
   "source": [
    "## Simplifying the 'nationality (13)' variable in the deduplicated version"
   ]
  },
  {
   "cell_type": "code",
   "execution_count": 18,
   "id": "0e8fce51",
   "metadata": {},
   "outputs": [
    {
     "name": "stdout",
     "output_type": "stream",
     "text": [
      "['United-States', 'Cuba', 'Jamaica', 'India', '?', 'Mexico', 'South', 'Puerto-Rico', 'Honduras', 'England', 'Canada', 'Germany', 'Iran', 'Philippines', 'Italy', 'Poland', 'Columbia', 'Cambodia', 'Thailand', 'Ecuador', 'Laos', 'Taiwan', 'Haiti', 'Portugal', 'Dominican-Republic', 'El-Salvador', 'France', 'Guatemala', 'China', 'Japan', 'Yugoslavia', 'Peru', 'Outlying-US(Guam-USVI-etc)', 'Scotland', 'Trinadad&Tobago', 'Greece', 'Nicaragua', 'Vietnam', 'Hong', 'Ireland', 'Hungary', 'Holand-Netherlands', None]\n"
     ]
    }
   ],
   "source": [
    "print(    ['United-States', 'Cuba', 'Jamaica', 'India', '?', 'Mexico', 'South', 'Puerto-Rico', 'Honduras', 'England', 'Canada', 'Germany', 'Iran', 'Philippines', 'Italy', 'Poland', 'Columbia', 'Cambodia', 'Thailand', 'Ecuador', 'Laos', 'Taiwan', 'Haiti', 'Portugal', 'Dominican-Republic', 'El-Salvador', 'France', 'Guatemala', 'China', 'Japan', 'Yugoslavia', 'Peru', 'Outlying-US(Guam-USVI-etc)', 'Scotland', 'Trinadad&Tobago', 'Greece', 'Nicaragua', 'Vietnam', 'Hong', 'Ireland', 'Hungary', 'Holand-Netherlands', None] )\n"
   ]
  },
  {
   "cell_type": "code",
   "execution_count": 19,
   "id": "a46293bd",
   "metadata": {},
   "outputs": [
    {
     "name": "stdout",
     "output_type": "stream",
     "text": [
      "108\n",
      "43\n"
     ]
    },
    {
     "data": {
      "image/png": "[encoded data removed]",
      "text/plain": [
       "<Figure size 432x288 with 1 Axes>"
      ]
     },
     "metadata": {},
     "output_type": "display_data"
    },
    {
     "data": {
      "image/png": "[encoded data removed]",
      "text/plain": [
       "<Figure size 432x288 with 1 Axes>"
      ]
     },
     "metadata": {},
     "output_type": "display_data"
    },
    {
     "data": {
      "image/png": "[encoded data removed]",
      "text/plain": [
       "<Figure size 432x288 with 1 Axes>"
      ]
     },
     "metadata": {},
     "output_type": "display_data"
    }
   ],
   "source": [
    "d2 = 13\n",
    "print(cum_I_ks[d2])\n",
    "print(I_ks[d2])\n",
    "xd= np.matmul(X_arr[:,cum_I_ks[d2]:cum_I_ks[d2]+I_ks[d2]],np.arange(I_ks[d2]))\n",
    "xd= np.sum(X_arr[:,cum_I_ks[d2]:cum_I_ks[d2]+I_ks[d2]],axis=0)\n",
    "# xd= (X_arr[:,cum_ns[d2]:cum_ns[d2]+I_ks[d2]])\n",
    "lab= ['United-States', 'Cuba', 'Jamaica', 'India', '?', 'Mexico', 'South', 'Puerto-Rico', 'Honduras', 'England', 'Canada', 'Germany', 'Iran', 'Philippines', 'Italy', 'Poland', 'Columbia', 'Cambodia', 'Thailand', 'Ecuador', 'Laos', 'Taiwan', 'Haiti', 'Portugal', 'Dominican-Republic', 'El-Salvador', 'France', 'Guatemala', 'China', 'Japan', 'Yugoslavia', 'Peru', 'Outlying-US(Guam-USVI-etc)', 'Scotland', 'Trinadad&Tobago', 'Greece', 'Nicaragua', 'Vietnam', 'Hong', 'Ireland', 'Hungary', 'Holand-Netherlands', None] \n",
    "plt.pie(xd, labels=lab)\n",
    "# plt.pie(xd)#, labels=lab)\n",
    "plt.show()\n",
    "\n",
    "plt.pie(xd[1:], labels=lab[1:])\n",
    "plt.show()\n",
    "\n",
    "inds = list(range(43))\n",
    "inds.remove(0)\n",
    "inds.remove(5);inds.remove(4);\n",
    "plt.pie(xd[inds], labels=np.array(lab)[inds])\n",
    "plt.show()\n"
   ]
  },
  {
   "cell_type": "code",
   "execution_count": 20,
   "id": "ad6dd674",
   "metadata": {
    "scrolled": true
   },
   "outputs": [
    {
     "name": "stdout",
     "output_type": "stream",
     "text": [
      "country_relabeling_dict = {\n",
      "\t\"United-States\"                 : \"xxxx\",\n",
      "\t\"Cuba\"                          : \"xxxx\",\n",
      "\t\"Jamaica\"                       : \"xxxx\",\n",
      "\t\"India\"                         : \"xxxx\",\n",
      "\t\"?\"                             : \"xxxx\",\n",
      "\t\"Mexico\"                        : \"xxxx\",\n",
      "\t\"South\"                         : \"xxxx\",\n",
      "\t\"Puerto-Rico\"                   : \"xxxx\",\n",
      "\t\"Honduras\"                      : \"xxxx\",\n",
      "\t\"England\"                       : \"xxxx\",\n",
      "\t\"Canada\"                        : \"xxxx\",\n",
      "\t\"Germany\"                       : \"xxxx\",\n",
      "\t\"Iran\"                          : \"xxxx\",\n",
      "\t\"Philippines\"                   : \"xxxx\",\n",
      "\t\"Italy\"                         : \"xxxx\",\n",
      "\t\"Poland\"                        : \"xxxx\",\n",
      "\t\"Columbia\"                      : \"xxxx\",\n",
      "\t\"Cambodia\"                      : \"xxxx\",\n",
      "\t\"Thailand\"                      : \"xxxx\",\n",
      "\t\"Ecuador\"                       : \"xxxx\",\n",
      "\t\"Laos\"                          : \"xxxx\",\n",
      "\t\"Taiwan\"                        : \"xxxx\",\n",
      "\t\"Haiti\"                         : \"xxxx\",\n",
      "\t\"Portugal\"                      : \"xxxx\",\n",
      "\t\"Dominican-Republic\"            : \"xxxx\",\n",
      "\t\"El-Salvador\"                   : \"xxxx\",\n",
      "\t\"France\"                        : \"xxxx\",\n",
      "\t\"Guatemala\"                     : \"xxxx\",\n",
      "\t\"China\"                         : \"xxxx\",\n",
      "\t\"Japan\"                         : \"xxxx\",\n",
      "\t\"Yugoslavia\"                    : \"xxxx\",\n",
      "\t\"Peru\"                          : \"xxxx\",\n",
      "\t\"Outlying-US(Guam-USVI-etc)\"    : \"xxxx\",\n",
      "\t\"Scotland\"                      : \"xxxx\",\n",
      "\t\"Trinadad&Tobago\"               : \"xxxx\",\n",
      "\t\"Greece\"                        : \"xxxx\",\n",
      "\t\"Nicaragua\"                     : \"xxxx\",\n",
      "\t\"Vietnam\"                       : \"xxxx\",\n",
      "\t\"Hong\"                          : \"xxxx\",\n",
      "\t\"Ireland\"                       : \"xxxx\",\n",
      "\t\"Hungary\"                       : \"xxxx\",\n",
      "\t\"Holand-Netherlands\"            : \"xxxx\",\n",
      "\t\"None\"                          : \"xxxx\",\n",
      "}\n"
     ]
    }
   ],
   "source": [
    "print('country_relabeling_dict = {')\n",
    "for thing in lab:\n",
    "    print('\\t\"'+\"{:30s}\".format(str(thing)+'\"')+' : '+'\"xxxx\",')\n",
    "print('}')"
   ]
  },
  {
   "cell_type": "code",
   "execution_count": 21,
   "id": "0c478045",
   "metadata": {},
   "outputs": [],
   "source": [
    "country_relabeling_dict = {\n",
    "\t\"United-States\"                 : \"usa\",\n",
    "\t\"Cuba\"                          : \"latAm\",\n",
    "\t\"Jamaica\"                       : \"latAm\",\n",
    "\t\"India\"                         : \"asia\",\n",
    "\t\"?\"                             : \"?\",\n",
    "\t\"Mexico\"                        : \"mexico\",\n",
    "\t\"South\"                         : \"asia\", #presumably south korea\n",
    "\t\"Puerto-Rico\"                   : \"latAm\",\n",
    "\t\"Honduras\"                      : \"latAm\",\n",
    "\t\"England\"                       : \"uk\",   #I guess I will keep (English)\n",
    "\t\"Canada\"                        : \"canada\",\n",
    "\t\"Germany\"                       : \"europe\",\n",
    "\t\"Iran\"                          : \"asia\", #central asia?\n",
    "    \"Philippines\"                   : \"asia\",\n",
    "\t\"Italy\"                         : \"europe\",\n",
    "\t\"Poland\"                        : \"europe\",\n",
    "\t\"Columbia\"                      : \"latAm\",\n",
    "\t\"Cambodia\"                      : \"asia\", #southeast asia?\n",
    "    \"Thailand\"                      : \"asia\",\n",
    "\t\"Ecuador\"                       : \"latAm\",\n",
    "\t\"Laos\"                          : \"asia\",\n",
    "\t\"Taiwan\"                        : \"asia\",\n",
    "\t\"Haiti\"                         : \"latAm\",\n",
    "\t\"Portugal\"                      : \"europe\",\n",
    "\t\"Dominican-Republic\"            : \"latAm\",\n",
    "\t\"El-Salvador\"                   : \"latAm\",\n",
    "\t\"France\"                        : \"europe\",\n",
    "\t\"Guatemala\"                     : \"latAm\",\n",
    "\t\"China\"                         : \"asia\",\n",
    "\t\"Japan\"                         : \"asia\",\n",
    "\t\"Yugoslavia\"                    : \"europe\",\n",
    "\t\"Peru\"                          : \"latAm\",\n",
    "\t\"Outlying-US(Guam-USVI-etc)\"    : \"latAm\",\n",
    "\t\"Scotland\"                      : \"europe\",\n",
    "\t\"Trinadad&Tobago\"               : \"latAm\",\n",
    "\t\"Greece\"                        : \"europe\",\n",
    "\t\"Nicaragua\"                     : \"latAm\",\n",
    "\t\"Vietnam\"                       : \"asia\",\n",
    "\t\"Hong\"                          : \"asia\", #hong kong?\n",
    "\t\"Ireland\"                       : \"europe\",\n",
    "\t\"Hungary\"                       : \"europe\",\n",
    "\t\"Holand-Netherlands\"            : \"europe\",\n",
    "\t\"None\"                          : \"?\",\n",
    "}"
   ]
  },
  {
   "cell_type": "code",
   "execution_count": 22,
   "id": "5c72ab64",
   "metadata": {},
   "outputs": [
    {
     "name": "stdout",
     "output_type": "stream",
     "text": [
      "uniques 8\n",
      "['usa', 'latAm', 'asia', '?', 'mexico', 'uk', 'canada', 'europe']\n",
      "[[1. 0. 0. 0. 0. 0. 0. 0. 0. 0. 0. 0. 0. 0. 0. 0. 0. 0. 0. 0. 0. 0. 0. 0.\n",
      "  0. 0. 0. 0. 0. 0. 0. 0. 0. 0. 0. 0. 0. 0. 0. 0. 0. 0. 0.]\n",
      " [0. 1. 1. 0. 0. 0. 0. 1. 1. 0. 0. 0. 0. 0. 0. 0. 1. 0. 0. 1. 0. 0. 1. 0.\n",
      "  1. 1. 0. 1. 0. 0. 0. 1. 1. 0. 1. 0. 1. 0. 0. 0. 0. 0. 0.]\n",
      " [0. 0. 0. 1. 0. 0. 1. 0. 0. 0. 0. 0. 1. 1. 0. 0. 0. 1. 1. 0. 1. 1. 0. 0.\n",
      "  0. 0. 0. 0. 1. 1. 0. 0. 0. 0. 0. 0. 0. 1. 1. 0. 0. 0. 0.]\n",
      " [0. 0. 0. 0. 1. 0. 0. 0. 0. 0. 0. 0. 0. 0. 0. 0. 0. 0. 0. 0. 0. 0. 0. 0.\n",
      "  0. 0. 0. 0. 0. 0. 0. 0. 0. 0. 0. 0. 0. 0. 0. 0. 0. 0. 1.]\n",
      " [0. 0. 0. 0. 0. 1. 0. 0. 0. 0. 0. 0. 0. 0. 0. 0. 0. 0. 0. 0. 0. 0. 0. 0.\n",
      "  0. 0. 0. 0. 0. 0. 0. 0. 0. 0. 0. 0. 0. 0. 0. 0. 0. 0. 0.]\n",
      " [0. 0. 0. 0. 0. 0. 0. 0. 0. 1. 0. 0. 0. 0. 0. 0. 0. 0. 0. 0. 0. 0. 0. 0.\n",
      "  0. 0. 0. 0. 0. 0. 0. 0. 0. 0. 0. 0. 0. 0. 0. 0. 0. 0. 0.]\n",
      " [0. 0. 0. 0. 0. 0. 0. 0. 0. 0. 1. 0. 0. 0. 0. 0. 0. 0. 0. 0. 0. 0. 0. 0.\n",
      "  0. 0. 0. 0. 0. 0. 0. 0. 0. 0. 0. 0. 0. 0. 0. 0. 0. 0. 0.]\n",
      " [0. 0. 0. 0. 0. 0. 0. 0. 0. 0. 0. 1. 0. 0. 1. 1. 0. 0. 0. 0. 0. 0. 0. 1.\n",
      "  0. 0. 1. 0. 0. 0. 1. 0. 0. 1. 0. 1. 0. 0. 0. 1. 1. 1. 0.]]\n"
     ]
    }
   ],
   "source": [
    "uniques = []\n",
    "for thing in country_relabeling_dict:\n",
    "    newlabel = country_relabeling_dict[thing]\n",
    "    if newlabel not in uniques:\n",
    "        uniques.append(newlabel)\n",
    "\n",
    "print('uniques',len(uniques))\n",
    "print(uniques)\n",
    "\n",
    "\n",
    "country_relabeling_array = np.zeros((43,len(uniques)))\n",
    "cc=0\n",
    "for thing in country_relabeling_dict:\n",
    "    newlabel = country_relabeling_dict[thing]\n",
    "    uu=uniques.index(newlabel)\n",
    "    country_relabeling_array[cc,uu] = 1\n",
    "    cc+=1\n",
    "\n",
    "print(country_relabeling_array.T)"
   ]
  },
  {
   "cell_type": "code",
   "execution_count": 23,
   "id": "4f8b098b",
   "metadata": {},
   "outputs": [
    {
     "name": "stdout",
     "output_type": "stream",
     "text": [
      "X_arr_simpnat (32561, 116)\n",
      "I_ks    \t (2, 14, 10, 9, 16, 7, 16, 6, 5, 2, 6, 5, 10, 8)\n",
      "cum_I_ks \t [0, 2, 16, 26, 35, 51, 58, 74, 80, 85, 87, 93, 98, 108, 116]\n"
     ]
    }
   ],
   "source": [
    "if I_ks[13]==43:\n",
    "    X_arr_v1 = X_arr[:,:108]\n",
    "    X_arr_v2 = X_arr[:,108:]\n",
    "    X_arr_v3 = np.matmul(X_arr_v2,country_relabeling_array)\n",
    "    X_arr_simpnat = np.concatenate([X_arr_v1,X_arr_v3],axis=-1)\n",
    "    print('X_arr_simpnat',X_arr_simpnat.shape)\n",
    "\n",
    "    I_ks=list(I_ks)\n",
    "    I_ks[13] = 8\n",
    "    I_ks=tuple(I_ks)\n",
    "    print('I_ks    \\t',I_ks)\n",
    "    cum_I_ks = get_cumulative_index_sizes(I_ks)\n",
    "    print('cum_I_ks \\t',cum_I_ks)\n",
    "    readable_label_dict[13] = 'simplified-native-country'\n",
    "    event_dictionary[13] = uniques"
   ]
  },
  {
   "cell_type": "code",
   "execution_count": 24,
   "id": "f3474169",
   "metadata": {},
   "outputs": [
    {
     "name": "stdout",
     "output_type": "stream",
     "text": [
      "0 \t income\n",
      "1 \t age\n",
      "2 \t workclass\n",
      "3 \t fnlwgt\n",
      "4 \t education\n",
      "5 \t marital-status\n",
      "6 \t occupation\n",
      "7 \t relationship\n",
      "8 \t race\n",
      "9 \t sex\n",
      "10 \t capital-gain\n",
      "11 \t capital-loss\n",
      "12 \t hours-per-week\n",
      "13 \t simplified-native-country\n",
      "\n",
      "\n",
      "0 \t ['<=50K', '>50K']\n",
      "1 \t ['<20', '20-24', '25-29', '30-34', '35-39', '40-44', '45-49', '50-54', '55-59', '60-64', '65-69', '70-79', '80-89', '90+']\n",
      "2 \t ['State-gov', 'Self-emp-not-inc', 'Private', 'Federal-gov', 'Local-gov', '?', 'Self-emp-inc', 'Without-pay', 'Never-worked', None]\n",
      "3 \t ['<50K', '50K-100K', '100K-150K', '150K-200K', '200K-250K', '250K-300K', '300K-350K', '350K-400K', '400K+']\n",
      "4 \t ['Preschool', '1st-4th', '5th-6th', '7th-8th', '9th', '10th', '11th', '12th', 'HS-grad', 'Some-college', 'Assoc-voc', 'Assoc-acdm', 'Bachelors', 'Masters', 'Prof-school', 'Doctorate']\n",
      "5 \t ['Never-married', 'Married-civ-spouse', 'Divorced', 'Married-spouse-absent', 'Separated', 'Married-AF-spouse', 'Widowed']\n",
      "6 \t ['Adm-clerical', 'Exec-managerial', 'Handlers-cleaners', 'Prof-specialty', 'Other-service', 'Sales', 'Craft-repair', 'Transport-moving', 'Farming-fishing', 'Machine-op-inspct', 'Tech-support', '?', 'Protective-serv', 'Armed-Forces', 'Priv-house-serv', None]\n",
      "7 \t ['Not-in-family', 'Husband', 'Wife', 'Own-child', 'Unmarried', 'Other-relative']\n",
      "8 \t ['White', 'Black', 'Asian-Pac-Islander', 'Amer-Indian-Eskimo', 'Other']\n",
      "9 \t ['Male', 'Female']\n",
      "10 \t ['0', '<1K', '1K-3K', '3K-10K', '10K-30K', '30K+']\n",
      "11 \t ['1K', '1K-1.5K', '1.5K-2K', '2K-2.5K', '2.5K-5K']\n",
      "12 \t ['0-10', '10-20', '20-30', '30-35', '35-40', '40-45', '45-50', '50-60', '60-80', '80-100']\n",
      "13 \t ['usa', 'latAm', 'asia', '?', 'mexico', 'uk', 'canada', 'europe']\n"
     ]
    }
   ],
   "source": [
    "for thing in (readable_label_dict):\n",
    "    print(thing,'\\t',readable_label_dict[thing])\n",
    "print()\n",
    "print()\n",
    "for thing in (event_dictionary):\n",
    "    print(thing,'\\t',event_dictionary[thing])\n"
   ]
  },
  {
   "cell_type": "code",
   "execution_count": 25,
   "id": "a37860c2",
   "metadata": {},
   "outputs": [],
   "source": [
    "\n",
    "EXPORT_FILENAME_2 = \"../datasets/preprocessed_data/adultsV2_\"\n",
    "trn_X,tst_X = save_onehotified_dataset_to_numpy(EXPORT_FILENAME_2,X_arr_simpnat,N,D,I_ks,cum_I_ks,readable_label_dict,event_dictionary)"
   ]
  },
  {
   "cell_type": "code",
   "execution_count": null,
   "id": "4c604200",
   "metadata": {},
   "outputs": [],
   "source": []
  }
 ],
 "metadata": {
  "kernelspec": {
   "display_name": "Python 3 (ipykernel)",
   "language": "python",
   "name": "python3"
  },
  "language_info": {
   "codemirror_mode": {
    "name": "ipython",
    "version": 3
   },
   "file_extension": ".py",
   "mimetype": "text/x-python",
   "name": "python",
   "nbconvert_exporter": "python",
   "pygments_lexer": "ipython3",
   "version": "3.10.5"
  }
 },
 "nbformat": 4,
 "nbformat_minor": 5
}
